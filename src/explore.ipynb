{
    "cells": [
        {
            "cell_type": "markdown",
            "metadata": {},
            "source": [
                "## Movie recommendation system\n",
                "Would we be able to predict which movies might or might not be a commercial success? This dataset collects part of the knowledge from the API TMDB, which contains only 5000 movies out of the total number. The following resources are available:"
            ]
        },
        {
            "cell_type": "markdown",
            "metadata": {},
            "source": [
                "### Step 1: Loading the dataset"
            ]
        },
        {
            "cell_type": "code",
            "execution_count": 20,
            "metadata": {},
            "outputs": [
                {
                    "data": {
                        "text/plain": [
                            "(4803, 20)"
                        ]
                    },
                    "execution_count": 20,
                    "metadata": {},
                    "output_type": "execute_result"
                }
            ],
            "source": [
                "import pandas as pd\n",
                "\n",
                "movies = pd.read_csv(\"https://raw.githubusercontent.com/4GeeksAcademy/k-nearest-neighbors-project-tutorial/main/tmdb_5000_movies.csv\")\n",
                "movies.head()\n",
                "movies.shape"
            ]
        },
        {
            "cell_type": "code",
            "execution_count": 21,
            "metadata": {},
            "outputs": [
                {
                    "data": {
                        "text/plain": [
                            "(4803, 4)"
                        ]
                    },
                    "execution_count": 21,
                    "metadata": {},
                    "output_type": "execute_result"
                }
            ],
            "source": [
                "credits = pd.read_csv(\"https://raw.githubusercontent.com/4GeeksAcademy/k-nearest-neighbors-project-tutorial/main/tmdb_5000_credits.csv\")\n",
                "credits.head()\n",
                "credits.shape"
            ]
        },
        {
            "cell_type": "markdown",
            "metadata": {},
            "source": [
                "### Step 2: Creation of a database"
            ]
        },
        {
            "cell_type": "code",
            "execution_count": 22,
            "metadata": {},
            "outputs": [
                {
                    "data": {
                        "text/plain": [
                            "4803"
                        ]
                    },
                    "execution_count": 22,
                    "metadata": {},
                    "output_type": "execute_result"
                }
            ],
            "source": [
                "import sqlite3\n",
                "\n",
                "#Creación de la db y tablas con datos\n",
                "\n",
                "con = sqlite3.connect(\"../data/test.db\")\n",
                "movies.to_sql('movies', con, if_exists='replace', index=False)\n",
                "credits.to_sql('credits', con, if_exists='replace', index=False)\n"
            ]
        },
        {
            "cell_type": "code",
            "execution_count": 23,
            "metadata": {},
            "outputs": [],
            "source": [
                "#Creación de la tercera tabla con join\n",
                "query = \"\"\"SELECT *\n",
                "FROM movies\n",
                "INNER JOIN credits ON movies.title=credits.title;\n",
                "\"\"\""
            ]
        },
        {
            "cell_type": "code",
            "execution_count": 24,
            "metadata": {},
            "outputs": [
                {
                    "name": "stdout",
                    "output_type": "stream",
                    "text": [
                        "      budget                                             genres  \\\n",
                        "0  237000000  [{\"id\": 28, \"name\": \"Action\"}, {\"id\": 12, \"nam...   \n",
                        "1  300000000  [{\"id\": 12, \"name\": \"Adventure\"}, {\"id\": 14, \"...   \n",
                        "2  245000000  [{\"id\": 28, \"name\": \"Action\"}, {\"id\": 12, \"nam...   \n",
                        "3  250000000  [{\"id\": 28, \"name\": \"Action\"}, {\"id\": 80, \"nam...   \n",
                        "4  260000000  [{\"id\": 28, \"name\": \"Action\"}, {\"id\": 12, \"nam...   \n",
                        "\n",
                        "                                       homepage      id  \\\n",
                        "0                   http://www.avatarmovie.com/   19995   \n",
                        "1  http://disney.go.com/disneypictures/pirates/     285   \n",
                        "2   http://www.sonypictures.com/movies/spectre/  206647   \n",
                        "3            http://www.thedarkknightrises.com/   49026   \n",
                        "4          http://movies.disney.com/john-carter   49529   \n",
                        "\n",
                        "                                            keywords original_language  \\\n",
                        "0  [{\"id\": 1463, \"name\": \"culture clash\"}, {\"id\":...                en   \n",
                        "1  [{\"id\": 270, \"name\": \"ocean\"}, {\"id\": 726, \"na...                en   \n",
                        "2  [{\"id\": 470, \"name\": \"spy\"}, {\"id\": 818, \"name...                en   \n",
                        "3  [{\"id\": 849, \"name\": \"dc comics\"}, {\"id\": 853,...                en   \n",
                        "4  [{\"id\": 818, \"name\": \"based on novel\"}, {\"id\":...                en   \n",
                        "\n",
                        "                             original_title  \\\n",
                        "0                                    Avatar   \n",
                        "1  Pirates of the Caribbean: At World's End   \n",
                        "2                                   Spectre   \n",
                        "3                     The Dark Knight Rises   \n",
                        "4                               John Carter   \n",
                        "\n",
                        "                                            overview  popularity  \\\n",
                        "0  In the 22nd century, a paraplegic Marine is di...  150.437577   \n",
                        "1  Captain Barbossa, long believed to be dead, ha...  139.082615   \n",
                        "2  A cryptic message from Bond’s past sends him o...  107.376788   \n",
                        "3  Following the death of District Attorney Harve...  112.312950   \n",
                        "4  John Carter is a war-weary, former military ca...   43.926995   \n",
                        "\n",
                        "                                production_companies  ...  \\\n",
                        "0  [{\"name\": \"Ingenious Film Partners\", \"id\": 289...  ...   \n",
                        "1  [{\"name\": \"Walt Disney Pictures\", \"id\": 2}, {\"...  ...   \n",
                        "2  [{\"name\": \"Columbia Pictures\", \"id\": 5}, {\"nam...  ...   \n",
                        "3  [{\"name\": \"Legendary Pictures\", \"id\": 923}, {\"...  ...   \n",
                        "4        [{\"name\": \"Walt Disney Pictures\", \"id\": 2}]  ...   \n",
                        "\n",
                        "                                    spoken_languages    status  \\\n",
                        "0  [{\"iso_639_1\": \"en\", \"name\": \"English\"}, {\"iso...  Released   \n",
                        "1           [{\"iso_639_1\": \"en\", \"name\": \"English\"}]  Released   \n",
                        "2  [{\"iso_639_1\": \"fr\", \"name\": \"Fran\\u00e7ais\"},...  Released   \n",
                        "3           [{\"iso_639_1\": \"en\", \"name\": \"English\"}]  Released   \n",
                        "4           [{\"iso_639_1\": \"en\", \"name\": \"English\"}]  Released   \n",
                        "\n",
                        "                                          tagline  \\\n",
                        "0                     Enter the World of Pandora.   \n",
                        "1  At the end of the world, the adventure begins.   \n",
                        "2                           A Plan No One Escapes   \n",
                        "3                                 The Legend Ends   \n",
                        "4            Lost in our world, found in another.   \n",
                        "\n",
                        "                                      title vote_average vote_count movie_id  \\\n",
                        "0                                    Avatar          7.2      11800    19995   \n",
                        "1  Pirates of the Caribbean: At World's End          6.9       4500      285   \n",
                        "2                                   Spectre          6.3       4466   206647   \n",
                        "3                     The Dark Knight Rises          7.6       9106    49026   \n",
                        "4                               John Carter          6.1       2124    49529   \n",
                        "\n",
                        "                                      title  \\\n",
                        "0                                    Avatar   \n",
                        "1  Pirates of the Caribbean: At World's End   \n",
                        "2                                   Spectre   \n",
                        "3                     The Dark Knight Rises   \n",
                        "4                               John Carter   \n",
                        "\n",
                        "                                                cast  \\\n",
                        "0  [{\"cast_id\": 242, \"character\": \"Jake Sully\", \"...   \n",
                        "1  [{\"cast_id\": 4, \"character\": \"Captain Jack Spa...   \n",
                        "2  [{\"cast_id\": 1, \"character\": \"James Bond\", \"cr...   \n",
                        "3  [{\"cast_id\": 2, \"character\": \"Bruce Wayne / Ba...   \n",
                        "4  [{\"cast_id\": 5, \"character\": \"John Carter\", \"c...   \n",
                        "\n",
                        "                                                crew  \n",
                        "0  [{\"credit_id\": \"52fe48009251416c750aca23\", \"de...  \n",
                        "1  [{\"credit_id\": \"52fe4232c3a36847f800b579\", \"de...  \n",
                        "2  [{\"credit_id\": \"54805967c3a36829b5002c41\", \"de...  \n",
                        "3  [{\"credit_id\": \"52fe4781c3a36847f81398c3\", \"de...  \n",
                        "4  [{\"credit_id\": \"52fe479ac3a36847f813eaa3\", \"de...  \n",
                        "\n",
                        "[5 rows x 24 columns]\n",
                        "(4809, 24)\n"
                    ]
                }
            ],
            "source": [
                "#Obtención del tercer dataframe y limpieza de columnas\n",
                "data = pd.read_sql_query(query,con)\n",
                "print(data.head())\n",
                "print(data.shape)"
            ]
        },
        {
            "cell_type": "code",
            "execution_count": 25,
            "metadata": {},
            "outputs": [
                {
                    "name": "stdout",
                    "output_type": "stream",
                    "text": [
                        "(4809, 7)\n",
                        "<class 'pandas.core.frame.DataFrame'>\n",
                        "RangeIndex: 4809 entries, 0 to 4808\n",
                        "Data columns (total 7 columns):\n",
                        " #   Column    Non-Null Count  Dtype \n",
                        "---  ------    --------------  ----- \n",
                        " 0   movie_id  4809 non-null   object\n",
                        " 1   title     4809 non-null   object\n",
                        " 2   overview  4806 non-null   object\n",
                        " 3   genres    4809 non-null   object\n",
                        " 4   keywords  4809 non-null   object\n",
                        " 5   cast      4809 non-null   object\n",
                        " 6   crew      4809 non-null   object\n",
                        "dtypes: object(7)\n",
                        "memory usage: 263.1+ KB\n",
                        "None\n"
                    ]
                }
            ],
            "source": [
                "#Eliminación de columnas no necesarias\n",
                "data = data[['movie_id','title','overview','genres','keywords','cast','crew']]\n",
                "data = data.T.drop_duplicates().T\n",
                "print(data.shape)\n",
                "print(data.info())"
            ]
        },
        {
            "cell_type": "code",
            "execution_count": 26,
            "metadata": {},
            "outputs": [
                {
                    "data": {
                        "text/html": [
                            "<div>\n",
                            "<style scoped>\n",
                            "    .dataframe tbody tr th:only-of-type {\n",
                            "        vertical-align: middle;\n",
                            "    }\n",
                            "\n",
                            "    .dataframe tbody tr th {\n",
                            "        vertical-align: top;\n",
                            "    }\n",
                            "\n",
                            "    .dataframe thead th {\n",
                            "        text-align: right;\n",
                            "    }\n",
                            "</style>\n",
                            "<table border=\"1\" class=\"dataframe\">\n",
                            "  <thead>\n",
                            "    <tr style=\"text-align: right;\">\n",
                            "      <th></th>\n",
                            "      <th>movie_id</th>\n",
                            "      <th>title</th>\n",
                            "      <th>overview</th>\n",
                            "      <th>genres</th>\n",
                            "      <th>keywords</th>\n",
                            "      <th>cast</th>\n",
                            "      <th>crew</th>\n",
                            "    </tr>\n",
                            "  </thead>\n",
                            "  <tbody>\n",
                            "    <tr>\n",
                            "      <th>0</th>\n",
                            "      <td>19995</td>\n",
                            "      <td>Avatar</td>\n",
                            "      <td>In the 22nd century, a paraplegic Marine is di...</td>\n",
                            "      <td>[{\"id\": 28, \"name\": \"Action\"}, {\"id\": 12, \"nam...</td>\n",
                            "      <td>[{\"id\": 1463, \"name\": \"culture clash\"}, {\"id\":...</td>\n",
                            "      <td>[{\"cast_id\": 242, \"character\": \"Jake Sully\", \"...</td>\n",
                            "      <td>[{\"credit_id\": \"52fe48009251416c750aca23\", \"de...</td>\n",
                            "    </tr>\n",
                            "    <tr>\n",
                            "      <th>1</th>\n",
                            "      <td>285</td>\n",
                            "      <td>Pirates of the Caribbean: At World's End</td>\n",
                            "      <td>Captain Barbossa, long believed to be dead, ha...</td>\n",
                            "      <td>[{\"id\": 12, \"name\": \"Adventure\"}, {\"id\": 14, \"...</td>\n",
                            "      <td>[{\"id\": 270, \"name\": \"ocean\"}, {\"id\": 726, \"na...</td>\n",
                            "      <td>[{\"cast_id\": 4, \"character\": \"Captain Jack Spa...</td>\n",
                            "      <td>[{\"credit_id\": \"52fe4232c3a36847f800b579\", \"de...</td>\n",
                            "    </tr>\n",
                            "    <tr>\n",
                            "      <th>2</th>\n",
                            "      <td>206647</td>\n",
                            "      <td>Spectre</td>\n",
                            "      <td>A cryptic message from Bond’s past sends him o...</td>\n",
                            "      <td>[{\"id\": 28, \"name\": \"Action\"}, {\"id\": 12, \"nam...</td>\n",
                            "      <td>[{\"id\": 470, \"name\": \"spy\"}, {\"id\": 818, \"name...</td>\n",
                            "      <td>[{\"cast_id\": 1, \"character\": \"James Bond\", \"cr...</td>\n",
                            "      <td>[{\"credit_id\": \"54805967c3a36829b5002c41\", \"de...</td>\n",
                            "    </tr>\n",
                            "    <tr>\n",
                            "      <th>3</th>\n",
                            "      <td>49026</td>\n",
                            "      <td>The Dark Knight Rises</td>\n",
                            "      <td>Following the death of District Attorney Harve...</td>\n",
                            "      <td>[{\"id\": 28, \"name\": \"Action\"}, {\"id\": 80, \"nam...</td>\n",
                            "      <td>[{\"id\": 849, \"name\": \"dc comics\"}, {\"id\": 853,...</td>\n",
                            "      <td>[{\"cast_id\": 2, \"character\": \"Bruce Wayne / Ba...</td>\n",
                            "      <td>[{\"credit_id\": \"52fe4781c3a36847f81398c3\", \"de...</td>\n",
                            "    </tr>\n",
                            "    <tr>\n",
                            "      <th>4</th>\n",
                            "      <td>49529</td>\n",
                            "      <td>John Carter</td>\n",
                            "      <td>John Carter is a war-weary, former military ca...</td>\n",
                            "      <td>[{\"id\": 28, \"name\": \"Action\"}, {\"id\": 12, \"nam...</td>\n",
                            "      <td>[{\"id\": 818, \"name\": \"based on novel\"}, {\"id\":...</td>\n",
                            "      <td>[{\"cast_id\": 5, \"character\": \"John Carter\", \"c...</td>\n",
                            "      <td>[{\"credit_id\": \"52fe479ac3a36847f813eaa3\", \"de...</td>\n",
                            "    </tr>\n",
                            "    <tr>\n",
                            "      <th>5</th>\n",
                            "      <td>559</td>\n",
                            "      <td>Spider-Man 3</td>\n",
                            "      <td>The seemingly invincible Spider-Man goes up ag...</td>\n",
                            "      <td>[{\"id\": 14, \"name\": \"Fantasy\"}, {\"id\": 28, \"na...</td>\n",
                            "      <td>[{\"id\": 851, \"name\": \"dual identity\"}, {\"id\": ...</td>\n",
                            "      <td>[{\"cast_id\": 30, \"character\": \"Peter Parker / ...</td>\n",
                            "      <td>[{\"credit_id\": \"52fe4252c3a36847f80151a5\", \"de...</td>\n",
                            "    </tr>\n",
                            "    <tr>\n",
                            "      <th>6</th>\n",
                            "      <td>38757</td>\n",
                            "      <td>Tangled</td>\n",
                            "      <td>When the kingdom's most wanted-and most charmi...</td>\n",
                            "      <td>[{\"id\": 16, \"name\": \"Animation\"}, {\"id\": 10751...</td>\n",
                            "      <td>[{\"id\": 1562, \"name\": \"hostage\"}, {\"id\": 2343,...</td>\n",
                            "      <td>[{\"cast_id\": 34, \"character\": \"Flynn Rider (vo...</td>\n",
                            "      <td>[{\"credit_id\": \"52fe46db9251416c91062101\", \"de...</td>\n",
                            "    </tr>\n",
                            "    <tr>\n",
                            "      <th>7</th>\n",
                            "      <td>99861</td>\n",
                            "      <td>Avengers: Age of Ultron</td>\n",
                            "      <td>When Tony Stark tries to jumpstart a dormant p...</td>\n",
                            "      <td>[{\"id\": 28, \"name\": \"Action\"}, {\"id\": 12, \"nam...</td>\n",
                            "      <td>[{\"id\": 8828, \"name\": \"marvel comic\"}, {\"id\": ...</td>\n",
                            "      <td>[{\"cast_id\": 76, \"character\": \"Tony Stark / Ir...</td>\n",
                            "      <td>[{\"credit_id\": \"55d5f7d4c3a3683e7e0016eb\", \"de...</td>\n",
                            "    </tr>\n",
                            "    <tr>\n",
                            "      <th>8</th>\n",
                            "      <td>767</td>\n",
                            "      <td>Harry Potter and the Half-Blood Prince</td>\n",
                            "      <td>As Harry begins his sixth year at Hogwarts, he...</td>\n",
                            "      <td>[{\"id\": 12, \"name\": \"Adventure\"}, {\"id\": 14, \"...</td>\n",
                            "      <td>[{\"id\": 616, \"name\": \"witch\"}, {\"id\": 2343, \"n...</td>\n",
                            "      <td>[{\"cast_id\": 3, \"character\": \"Harry Potter\", \"...</td>\n",
                            "      <td>[{\"credit_id\": \"52fe4273c3a36847f801fab1\", \"de...</td>\n",
                            "    </tr>\n",
                            "    <tr>\n",
                            "      <th>9</th>\n",
                            "      <td>209112</td>\n",
                            "      <td>Batman v Superman: Dawn of Justice</td>\n",
                            "      <td>Fearing the actions of a god-like Super Hero l...</td>\n",
                            "      <td>[{\"id\": 28, \"name\": \"Action\"}, {\"id\": 12, \"nam...</td>\n",
                            "      <td>[{\"id\": 849, \"name\": \"dc comics\"}, {\"id\": 7002...</td>\n",
                            "      <td>[{\"cast_id\": 18, \"character\": \"Bruce Wayne / B...</td>\n",
                            "      <td>[{\"credit_id\": \"553bf23692514135c8002886\", \"de...</td>\n",
                            "    </tr>\n",
                            "  </tbody>\n",
                            "</table>\n",
                            "</div>"
                        ],
                        "text/plain": [
                            "  movie_id                                     title  \\\n",
                            "0    19995                                    Avatar   \n",
                            "1      285  Pirates of the Caribbean: At World's End   \n",
                            "2   206647                                   Spectre   \n",
                            "3    49026                     The Dark Knight Rises   \n",
                            "4    49529                               John Carter   \n",
                            "5      559                              Spider-Man 3   \n",
                            "6    38757                                   Tangled   \n",
                            "7    99861                   Avengers: Age of Ultron   \n",
                            "8      767    Harry Potter and the Half-Blood Prince   \n",
                            "9   209112        Batman v Superman: Dawn of Justice   \n",
                            "\n",
                            "                                            overview  \\\n",
                            "0  In the 22nd century, a paraplegic Marine is di...   \n",
                            "1  Captain Barbossa, long believed to be dead, ha...   \n",
                            "2  A cryptic message from Bond’s past sends him o...   \n",
                            "3  Following the death of District Attorney Harve...   \n",
                            "4  John Carter is a war-weary, former military ca...   \n",
                            "5  The seemingly invincible Spider-Man goes up ag...   \n",
                            "6  When the kingdom's most wanted-and most charmi...   \n",
                            "7  When Tony Stark tries to jumpstart a dormant p...   \n",
                            "8  As Harry begins his sixth year at Hogwarts, he...   \n",
                            "9  Fearing the actions of a god-like Super Hero l...   \n",
                            "\n",
                            "                                              genres  \\\n",
                            "0  [{\"id\": 28, \"name\": \"Action\"}, {\"id\": 12, \"nam...   \n",
                            "1  [{\"id\": 12, \"name\": \"Adventure\"}, {\"id\": 14, \"...   \n",
                            "2  [{\"id\": 28, \"name\": \"Action\"}, {\"id\": 12, \"nam...   \n",
                            "3  [{\"id\": 28, \"name\": \"Action\"}, {\"id\": 80, \"nam...   \n",
                            "4  [{\"id\": 28, \"name\": \"Action\"}, {\"id\": 12, \"nam...   \n",
                            "5  [{\"id\": 14, \"name\": \"Fantasy\"}, {\"id\": 28, \"na...   \n",
                            "6  [{\"id\": 16, \"name\": \"Animation\"}, {\"id\": 10751...   \n",
                            "7  [{\"id\": 28, \"name\": \"Action\"}, {\"id\": 12, \"nam...   \n",
                            "8  [{\"id\": 12, \"name\": \"Adventure\"}, {\"id\": 14, \"...   \n",
                            "9  [{\"id\": 28, \"name\": \"Action\"}, {\"id\": 12, \"nam...   \n",
                            "\n",
                            "                                            keywords  \\\n",
                            "0  [{\"id\": 1463, \"name\": \"culture clash\"}, {\"id\":...   \n",
                            "1  [{\"id\": 270, \"name\": \"ocean\"}, {\"id\": 726, \"na...   \n",
                            "2  [{\"id\": 470, \"name\": \"spy\"}, {\"id\": 818, \"name...   \n",
                            "3  [{\"id\": 849, \"name\": \"dc comics\"}, {\"id\": 853,...   \n",
                            "4  [{\"id\": 818, \"name\": \"based on novel\"}, {\"id\":...   \n",
                            "5  [{\"id\": 851, \"name\": \"dual identity\"}, {\"id\": ...   \n",
                            "6  [{\"id\": 1562, \"name\": \"hostage\"}, {\"id\": 2343,...   \n",
                            "7  [{\"id\": 8828, \"name\": \"marvel comic\"}, {\"id\": ...   \n",
                            "8  [{\"id\": 616, \"name\": \"witch\"}, {\"id\": 2343, \"n...   \n",
                            "9  [{\"id\": 849, \"name\": \"dc comics\"}, {\"id\": 7002...   \n",
                            "\n",
                            "                                                cast  \\\n",
                            "0  [{\"cast_id\": 242, \"character\": \"Jake Sully\", \"...   \n",
                            "1  [{\"cast_id\": 4, \"character\": \"Captain Jack Spa...   \n",
                            "2  [{\"cast_id\": 1, \"character\": \"James Bond\", \"cr...   \n",
                            "3  [{\"cast_id\": 2, \"character\": \"Bruce Wayne / Ba...   \n",
                            "4  [{\"cast_id\": 5, \"character\": \"John Carter\", \"c...   \n",
                            "5  [{\"cast_id\": 30, \"character\": \"Peter Parker / ...   \n",
                            "6  [{\"cast_id\": 34, \"character\": \"Flynn Rider (vo...   \n",
                            "7  [{\"cast_id\": 76, \"character\": \"Tony Stark / Ir...   \n",
                            "8  [{\"cast_id\": 3, \"character\": \"Harry Potter\", \"...   \n",
                            "9  [{\"cast_id\": 18, \"character\": \"Bruce Wayne / B...   \n",
                            "\n",
                            "                                                crew  \n",
                            "0  [{\"credit_id\": \"52fe48009251416c750aca23\", \"de...  \n",
                            "1  [{\"credit_id\": \"52fe4232c3a36847f800b579\", \"de...  \n",
                            "2  [{\"credit_id\": \"54805967c3a36829b5002c41\", \"de...  \n",
                            "3  [{\"credit_id\": \"52fe4781c3a36847f81398c3\", \"de...  \n",
                            "4  [{\"credit_id\": \"52fe479ac3a36847f813eaa3\", \"de...  \n",
                            "5  [{\"credit_id\": \"52fe4252c3a36847f80151a5\", \"de...  \n",
                            "6  [{\"credit_id\": \"52fe46db9251416c91062101\", \"de...  \n",
                            "7  [{\"credit_id\": \"55d5f7d4c3a3683e7e0016eb\", \"de...  \n",
                            "8  [{\"credit_id\": \"52fe4273c3a36847f801fab1\", \"de...  \n",
                            "9  [{\"credit_id\": \"553bf23692514135c8002886\", \"de...  "
                        ]
                    },
                    "execution_count": 26,
                    "metadata": {},
                    "output_type": "execute_result"
                }
            ],
            "source": [
                "data.head(10)"
            ]
        },
        {
            "cell_type": "markdown",
            "metadata": {},
            "source": [
                "### Step 3: Transform the data"
            ]
        },
        {
            "cell_type": "code",
            "execution_count": 27,
            "metadata": {},
            "outputs": [
                {
                    "name": "stdout",
                    "output_type": "stream",
                    "text": [
                        "  movie_id                                     title  \\\n",
                        "0    19995                                    Avatar   \n",
                        "1      285  Pirates of the Caribbean: At World's End   \n",
                        "2   206647                                   Spectre   \n",
                        "3    49026                     The Dark Knight Rises   \n",
                        "4    49529                               John Carter   \n",
                        "\n",
                        "                                            overview  \\\n",
                        "0  [In the 22nd century, a paraplegic Marine is d...   \n",
                        "1  [Captain Barbossa, long believed to be dead, h...   \n",
                        "2  [A cryptic message from Bond’s past sends him ...   \n",
                        "3  [Following the death of District Attorney Harv...   \n",
                        "4  [John Carter is a war-weary, former military c...   \n",
                        "\n",
                        "                                          genres  \\\n",
                        "0  [Action, Adventure, Fantasy, Science Fiction]   \n",
                        "1                   [Adventure, Fantasy, Action]   \n",
                        "2                     [Action, Adventure, Crime]   \n",
                        "3               [Action, Crime, Drama, Thriller]   \n",
                        "4           [Action, Adventure, Science Fiction]   \n",
                        "\n",
                        "                                            keywords  \\\n",
                        "0  [culture clash, future, space war, space colon...   \n",
                        "1  [ocean, drug abuse, exotic island, east india ...   \n",
                        "2  [spy, based on novel, secret agent, sequel, mi...   \n",
                        "3  [dc comics, crime fighter, terrorist, secret i...   \n",
                        "4  [based on novel, mars, medallion, space travel...   \n",
                        "\n",
                        "                                               cast               crew  \n",
                        "0  [Sam Worthington, Zoe Saldana, Sigourney Weaver]      James Cameron  \n",
                        "1     [Johnny Depp, Orlando Bloom, Keira Knightley]     Gore Verbinski  \n",
                        "2      [Daniel Craig, Christoph Waltz, Léa Seydoux]         Sam Mendes  \n",
                        "3      [Christian Bale, Michael Caine, Gary Oldman]  Christopher Nolan  \n",
                        "4    [Taylor Kitsch, Lynn Collins, Samantha Morton]     Andrew Stanton  \n"
                    ]
                }
            ],
            "source": [
                "# Data transform as expected\n",
                "import json\n",
                "\n",
                "try:\n",
                "    data['genres'] = data['genres'].apply(lambda x : [var['name'] for var in json.loads(x)] if pd.notna(x) else None)\n",
                "except: None\n",
                "try:\n",
                "    data[\"keywords\"] = data[\"keywords\"].apply(lambda x: [item[\"name\"] for item in json.loads(x)] if pd.notna(x) else None)\n",
                "except: None\n",
                "try: \n",
                "    data[\"cast\"] = data[\"cast\"].apply(lambda x: [item[\"name\"] for item in json.loads(x)][:3] if pd.notna(x) else None)\n",
                "except: None\n",
                "try:\n",
                "    data[\"crew\"] = data[\"crew\"].apply(lambda x: \" \".join([crew_member['name'] for crew_member in json.loads(x) if crew_member['job'] == 'Director']))\n",
                "except: None\n",
                "try: \n",
                "    data[\"overview\"] = data[\"overview\"].apply(lambda x: [x])\n",
                "except: None\n",
                "\n",
                "print(data.head())\n"
            ]
        },
        {
            "cell_type": "code",
            "execution_count": 28,
            "metadata": {},
            "outputs": [
                {
                    "data": {
                        "text/html": [
                            "<div>\n",
                            "<style scoped>\n",
                            "    .dataframe tbody tr th:only-of-type {\n",
                            "        vertical-align: middle;\n",
                            "    }\n",
                            "\n",
                            "    .dataframe tbody tr th {\n",
                            "        vertical-align: top;\n",
                            "    }\n",
                            "\n",
                            "    .dataframe thead th {\n",
                            "        text-align: right;\n",
                            "    }\n",
                            "</style>\n",
                            "<table border=\"1\" class=\"dataframe\">\n",
                            "  <thead>\n",
                            "    <tr style=\"text-align: right;\">\n",
                            "      <th></th>\n",
                            "      <th>movie_id</th>\n",
                            "      <th>title</th>\n",
                            "      <th>overview</th>\n",
                            "      <th>genres</th>\n",
                            "      <th>keywords</th>\n",
                            "      <th>cast</th>\n",
                            "      <th>crew</th>\n",
                            "    </tr>\n",
                            "  </thead>\n",
                            "  <tbody>\n",
                            "    <tr>\n",
                            "      <th>0</th>\n",
                            "      <td>19995</td>\n",
                            "      <td>Avatar</td>\n",
                            "      <td>[In the 22nd century, a paraplegic Marine is d...</td>\n",
                            "      <td>[Action, Adventure, Fantasy, Science Fiction]</td>\n",
                            "      <td>[culture clash, future, space war, space colon...</td>\n",
                            "      <td>[Sam Worthington, Zoe Saldana, Sigourney Weaver]</td>\n",
                            "      <td>James Cameron</td>\n",
                            "    </tr>\n",
                            "    <tr>\n",
                            "      <th>1</th>\n",
                            "      <td>285</td>\n",
                            "      <td>Pirates of the Caribbean: At World's End</td>\n",
                            "      <td>[Captain Barbossa, long believed to be dead, h...</td>\n",
                            "      <td>[Adventure, Fantasy, Action]</td>\n",
                            "      <td>[ocean, drug abuse, exotic island, east india ...</td>\n",
                            "      <td>[Johnny Depp, Orlando Bloom, Keira Knightley]</td>\n",
                            "      <td>Gore Verbinski</td>\n",
                            "    </tr>\n",
                            "    <tr>\n",
                            "      <th>2</th>\n",
                            "      <td>206647</td>\n",
                            "      <td>Spectre</td>\n",
                            "      <td>[A cryptic message from Bond’s past sends him ...</td>\n",
                            "      <td>[Action, Adventure, Crime]</td>\n",
                            "      <td>[spy, based on novel, secret agent, sequel, mi...</td>\n",
                            "      <td>[Daniel Craig, Christoph Waltz, Léa Seydoux]</td>\n",
                            "      <td>Sam Mendes</td>\n",
                            "    </tr>\n",
                            "    <tr>\n",
                            "      <th>3</th>\n",
                            "      <td>49026</td>\n",
                            "      <td>The Dark Knight Rises</td>\n",
                            "      <td>[Following the death of District Attorney Harv...</td>\n",
                            "      <td>[Action, Crime, Drama, Thriller]</td>\n",
                            "      <td>[dc comics, crime fighter, terrorist, secret i...</td>\n",
                            "      <td>[Christian Bale, Michael Caine, Gary Oldman]</td>\n",
                            "      <td>Christopher Nolan</td>\n",
                            "    </tr>\n",
                            "    <tr>\n",
                            "      <th>4</th>\n",
                            "      <td>49529</td>\n",
                            "      <td>John Carter</td>\n",
                            "      <td>[John Carter is a war-weary, former military c...</td>\n",
                            "      <td>[Action, Adventure, Science Fiction]</td>\n",
                            "      <td>[based on novel, mars, medallion, space travel...</td>\n",
                            "      <td>[Taylor Kitsch, Lynn Collins, Samantha Morton]</td>\n",
                            "      <td>Andrew Stanton</td>\n",
                            "    </tr>\n",
                            "  </tbody>\n",
                            "</table>\n",
                            "</div>"
                        ],
                        "text/plain": [
                            "  movie_id                                     title  \\\n",
                            "0    19995                                    Avatar   \n",
                            "1      285  Pirates of the Caribbean: At World's End   \n",
                            "2   206647                                   Spectre   \n",
                            "3    49026                     The Dark Knight Rises   \n",
                            "4    49529                               John Carter   \n",
                            "\n",
                            "                                            overview  \\\n",
                            "0  [In the 22nd century, a paraplegic Marine is d...   \n",
                            "1  [Captain Barbossa, long believed to be dead, h...   \n",
                            "2  [A cryptic message from Bond’s past sends him ...   \n",
                            "3  [Following the death of District Attorney Harv...   \n",
                            "4  [John Carter is a war-weary, former military c...   \n",
                            "\n",
                            "                                          genres  \\\n",
                            "0  [Action, Adventure, Fantasy, Science Fiction]   \n",
                            "1                   [Adventure, Fantasy, Action]   \n",
                            "2                     [Action, Adventure, Crime]   \n",
                            "3               [Action, Crime, Drama, Thriller]   \n",
                            "4           [Action, Adventure, Science Fiction]   \n",
                            "\n",
                            "                                            keywords  \\\n",
                            "0  [culture clash, future, space war, space colon...   \n",
                            "1  [ocean, drug abuse, exotic island, east india ...   \n",
                            "2  [spy, based on novel, secret agent, sequel, mi...   \n",
                            "3  [dc comics, crime fighter, terrorist, secret i...   \n",
                            "4  [based on novel, mars, medallion, space travel...   \n",
                            "\n",
                            "                                               cast               crew  \n",
                            "0  [Sam Worthington, Zoe Saldana, Sigourney Weaver]      James Cameron  \n",
                            "1     [Johnny Depp, Orlando Bloom, Keira Knightley]     Gore Verbinski  \n",
                            "2      [Daniel Craig, Christoph Waltz, Léa Seydoux]         Sam Mendes  \n",
                            "3      [Christian Bale, Michael Caine, Gary Oldman]  Christopher Nolan  \n",
                            "4    [Taylor Kitsch, Lynn Collins, Samantha Morton]     Andrew Stanton  "
                        ]
                    },
                    "execution_count": 28,
                    "metadata": {},
                    "output_type": "execute_result"
                }
            ],
            "source": [
                "data.head()"
            ]
        },
        {
            "cell_type": "code",
            "execution_count": 29,
            "metadata": {},
            "outputs": [
                {
                    "name": "stdout",
                    "output_type": "stream",
                    "text": [
                        "['In the 22nd century  a paraplegic Marine is dispatched to the moon Pandora on a unique mission  but becomes torn between following orders and protecting an alien civilization.'] Action Adventure Fantasy ScienceFiction cultureclash future spacewar spacecolony society spacetravel futuristic romance space alien tribe alienplanet cgi marine soldier battle loveaffair antiwar powerrelations mindandsoul 3d SamWorthington ZoeSaldana SigourneyWeaver JamesCameron\n"
                    ]
                }
            ],
            "source": [
                "data[\"overview\"] = data[\"overview\"].apply(lambda x: [str(x)])\n",
                "data[\"genres\"] = data[\"genres\"].apply(lambda x: [str(genre).replace(\" \",\"\") for genre in x])\n",
                "data[\"keywords\"] = data[\"keywords\"].apply(lambda x: [str(keyword).replace(\" \",\"\") for keyword in x])\n",
                "data[\"cast\"] = data[\"cast\"].apply(lambda x: [str(actor).replace(\" \",\"\") for actor in x])\n",
                "data[\"crew\"] = data[\"crew\"].apply(lambda x: [x.replace(\" \",\"\")])\n",
                "\n",
                "data[\"tags\"] = data[\"overview\"] + data[\"genres\"] + data[\"keywords\"] + data[\"cast\"] + data[\"crew\"]\n",
                "data[\"tags\"] = data[\"tags\"].apply(lambda x: \",\".join(x).replace(\",\", \" \"))\n",
                "print(data.loc[0,'tags'])"
            ]
        },
        {
            "cell_type": "code",
            "execution_count": 30,
            "metadata": {},
            "outputs": [
                {
                    "data": {
                        "text/html": [
                            "<div>\n",
                            "<style scoped>\n",
                            "    .dataframe tbody tr th:only-of-type {\n",
                            "        vertical-align: middle;\n",
                            "    }\n",
                            "\n",
                            "    .dataframe tbody tr th {\n",
                            "        vertical-align: top;\n",
                            "    }\n",
                            "\n",
                            "    .dataframe thead th {\n",
                            "        text-align: right;\n",
                            "    }\n",
                            "</style>\n",
                            "<table border=\"1\" class=\"dataframe\">\n",
                            "  <thead>\n",
                            "    <tr style=\"text-align: right;\">\n",
                            "      <th></th>\n",
                            "      <th>movie_id</th>\n",
                            "      <th>title</th>\n",
                            "      <th>tags</th>\n",
                            "    </tr>\n",
                            "  </thead>\n",
                            "  <tbody>\n",
                            "    <tr>\n",
                            "      <th>0</th>\n",
                            "      <td>19995</td>\n",
                            "      <td>Avatar</td>\n",
                            "      <td>['In the 22nd century  a paraplegic Marine is ...</td>\n",
                            "    </tr>\n",
                            "    <tr>\n",
                            "      <th>1</th>\n",
                            "      <td>285</td>\n",
                            "      <td>Pirates of the Caribbean: At World's End</td>\n",
                            "      <td>['Captain Barbossa  long believed to be dead  ...</td>\n",
                            "    </tr>\n",
                            "    <tr>\n",
                            "      <th>2</th>\n",
                            "      <td>206647</td>\n",
                            "      <td>Spectre</td>\n",
                            "      <td>['A cryptic message from Bond’s past sends him...</td>\n",
                            "    </tr>\n",
                            "    <tr>\n",
                            "      <th>3</th>\n",
                            "      <td>49026</td>\n",
                            "      <td>The Dark Knight Rises</td>\n",
                            "      <td>[\"Following the death of District Attorney Har...</td>\n",
                            "    </tr>\n",
                            "    <tr>\n",
                            "      <th>4</th>\n",
                            "      <td>49529</td>\n",
                            "      <td>John Carter</td>\n",
                            "      <td>[\"John Carter is a war-weary  former military ...</td>\n",
                            "    </tr>\n",
                            "  </tbody>\n",
                            "</table>\n",
                            "</div>"
                        ],
                        "text/plain": [
                            "  movie_id                                     title  \\\n",
                            "0    19995                                    Avatar   \n",
                            "1      285  Pirates of the Caribbean: At World's End   \n",
                            "2   206647                                   Spectre   \n",
                            "3    49026                     The Dark Knight Rises   \n",
                            "4    49529                               John Carter   \n",
                            "\n",
                            "                                                tags  \n",
                            "0  ['In the 22nd century  a paraplegic Marine is ...  \n",
                            "1  ['Captain Barbossa  long believed to be dead  ...  \n",
                            "2  ['A cryptic message from Bond’s past sends him...  \n",
                            "3  [\"Following the death of District Attorney Har...  \n",
                            "4  [\"John Carter is a war-weary  former military ...  "
                        ]
                    },
                    "execution_count": 30,
                    "metadata": {},
                    "output_type": "execute_result"
                }
            ],
            "source": [
                "data.drop(columns = ['overview','genres','keywords','cast','crew'], inplace=True)\n",
                "data.head()"
            ]
        },
        {
            "cell_type": "code",
            "execution_count": 31,
            "metadata": {},
            "outputs": [
                {
                    "data": {
                        "text/plain": [
                            "4803"
                        ]
                    },
                    "execution_count": 31,
                    "metadata": {},
                    "output_type": "execute_result"
                }
            ],
            "source": [
                "data.to_csv(\"../data/processed/clean_data.csv\", index = False)\n",
                "\n",
                "conn = sqlite3.connect(\"../data/movies_database.db\")\n",
                "\n",
                "movies.to_sql(\"clean_movies_data\", conn, if_exists = \"replace\", index = False)"
            ]
        },
        {
            "cell_type": "markdown",
            "metadata": {},
            "source": [
                "### Step 4: Build a KNN"
            ]
        },
        {
            "cell_type": "code",
            "execution_count": 32,
            "metadata": {},
            "outputs": [
                {
                    "name": "stdout",
                    "output_type": "stream",
                    "text": [
                        "<Compressed Sparse Row sparse matrix of dtype 'float64'\n",
                        "\twith 261477 stored elements and shape (4809, 35722)>\n",
                        "  Coords\tValues\n",
                        "  (0, 15381)\t0.03430379984009723\n",
                        "  (0, 32188)\t0.05197251138234446\n",
                        "  (0, 233)\t0.1782999934178856\n",
                        "  (0, 5383)\t0.11605098002492341\n",
                        "  (0, 23843)\t0.1741688620570135\n",
                        "  (0, 20151)\t0.2894581404073792\n",
                        "  (0, 16010)\t0.0407567052400133\n",
                        "  (0, 9090)\t0.16259432423830888\n",
                        "  (0, 32558)\t0.028837181438295535\n",
                        "  (0, 21742)\t0.14372186033980094\n",
                        "  (0, 23783)\t0.17067604025945823\n",
                        "  (0, 23283)\t0.048730978267768996\n",
                        "  (0, 33661)\t0.14094387672328448\n",
                        "  (0, 21518)\t0.10108343771123139\n",
                        "  (0, 4666)\t0.05731590249071853\n",
                        "  (0, 3059)\t0.08929978906455724\n",
                        "  (0, 32771)\t0.13926470190030477\n",
                        "  (0, 3351)\t0.09361003986445465\n",
                        "  (0, 12051)\t0.1256781920680997\n",
                        "  (0, 23409)\t0.14805088370998445\n",
                        "  (0, 1470)\t0.029464533002284618\n",
                        "  (0, 25589)\t0.15497037107988149\n",
                        "  (0, 1422)\t0.04909112080642707\n",
                        "  (0, 1125)\t0.21777635532299378\n",
                        "  (0, 6094)\t0.1584631928774368\n",
                        "  :\t:\n",
                        "  (4808, 11150)\t0.13664140942609315\n",
                        "  (4808, 25447)\t0.11271771134948942\n",
                        "  (4808, 28679)\t0.10523456729625233\n",
                        "  (4808, 7988)\t0.11376110683714707\n",
                        "  (4808, 4358)\t0.1334175803844451\n",
                        "  (4808, 9577)\t0.12079803180544073\n",
                        "  (4808, 11743)\t0.1215858193757821\n",
                        "  (4808, 12496)\t0.13065600375766978\n",
                        "  (4808, 2193)\t0.11861100173262822\n",
                        "  (4808, 8305)\t0.1319874361690041\n",
                        "  (4808, 7509)\t0.23586761077087323\n",
                        "  (4808, 2180)\t0.14051397570989885\n",
                        "  (4808, 28344)\t0.14278696635079302\n",
                        "  (4808, 16679)\t0.1260941457858653\n",
                        "  (4808, 9230)\t0.08958514221898227\n",
                        "  (4808, 9576)\t0.28557393270158604\n",
                        "  (4808, 13386)\t0.13664140942609315\n",
                        "  (4808, 4816)\t0.13848071629630482\n",
                        "  (4808, 2839)\t0.31232680157433784\n",
                        "  (4808, 9558)\t0.16171512268490978\n",
                        "  (4808, 7073)\t0.15185715073268072\n",
                        "  (4808, 244)\t0.14833868824853388\n",
                        "  (4808, 14405)\t0.3390796704470896\n",
                        "  (4808, 4247)\t0.1695398352235448\n",
                        "  (4808, 4248)\t0.1695398352235448\n"
                    ]
                }
            ],
            "source": [
                "from sklearn.feature_extraction.text import TfidfVectorizer\n",
                "from sklearn.neighbors import NearestNeighbors\n",
                "\n",
                "vectorizer = TfidfVectorizer()\n",
                "tfidf_matrix = vectorizer.fit_transform(data[\"tags\"])\n",
                "\n",
                "print(tfidf_matrix)"
            ]
        },
        {
            "cell_type": "code",
            "execution_count": 33,
            "metadata": {},
            "outputs": [],
            "source": [
                "from sklearn.metrics.pairwise import cosine_similarity\n",
                "\n",
                "similarity = cosine_similarity(tfidf_matrix)"
            ]
        },
        {
            "cell_type": "code",
            "execution_count": 34,
            "metadata": {},
            "outputs": [],
            "source": [
                "def recommend(movie):\n",
                "    movie_index = data[data[\"title\"] == movie].index[0]\n",
                "    distances = similarity[movie_index]\n",
                "    movie_list = sorted(list(enumerate(distances)), reverse = True , key = lambda x: x[1])[1:6]\n",
                "\n",
                "    return movie_list"
            ]
        },
        {
            "cell_type": "code",
            "execution_count": 35,
            "metadata": {},
            "outputs": [
                {
                    "name": "stdout",
                    "output_type": "stream",
                    "text": [
                        "Film recommendations 'How to Train Your Dragon'\n",
                        "- Film: How to Train Your Dragon 2\n",
                        "- Film: Dragon Nest: Warriors' Dawn\n",
                        "- Film: Pete's Dragon\n",
                        "- Film: George and the Dragon\n",
                        "- Film: Eragon\n"
                    ]
                }
            ],
            "source": [
                "input_movie = \"How to Train Your Dragon\"\n",
                "recommendations = recommend(input_movie)\n",
                "print(\"Film recommendations '{}'\".format(input_movie))\n",
                "for movie, distance in recommendations:\n",
                "    print(\"- Film: {}\".format(data.loc[movie,'title']))"
            ]
        },
        {
            "cell_type": "code",
            "execution_count": 36,
            "metadata": {},
            "outputs": [
                {
                    "name": "stdout",
                    "output_type": "stream",
                    "text": [
                        "Film recommendations 'Avatar'\n",
                        "- Film: Aliens\n",
                        "- Film: Battle: Los Angeles\n",
                        "- Film: Falcon Rising\n",
                        "- Film: Apollo 18\n",
                        "- Film: Titan A.E.\n"
                    ]
                }
            ],
            "source": [
                "input_movie = \"Avatar\"\n",
                "recommendations = recommend(input_movie)\n",
                "print(\"Film recommendations '{}'\".format(input_movie))\n",
                "for movie, distance in recommendations:\n",
                "    print(\"- Film: {}\".format(data.loc[movie,'title']))"
            ]
        },
        {
            "cell_type": "code",
            "execution_count": 37,
            "metadata": {},
            "outputs": [
                {
                    "name": "stdout",
                    "output_type": "stream",
                    "text": [
                        "Film recommendations 'Spectre'\n",
                        "- Film: Skyfall\n",
                        "- Film: Never Say Never Again\n",
                        "- Film: Quantum of Solace\n",
                        "- Film: From Russia with Love\n",
                        "- Film: Thunderball\n"
                    ]
                }
            ],
            "source": [
                "input_movie = \"Spectre\"\n",
                "recommendations = recommend(input_movie)\n",
                "print(\"Film recommendations '{}'\".format(input_movie))\n",
                "for movie, distance in recommendations:\n",
                "    print(\"- Film: {}\".format(data.loc[movie,'title']))"
            ]
        },
        {
            "cell_type": "markdown",
            "metadata": {},
            "source": [
                "Después de tres pruebas, se ha comprobado que el recomendador de peliculas funciona como se espera."
            ]
        }
    ],
    "metadata": {
        "kernelspec": {
            "display_name": "Python 3",
            "language": "python",
            "name": "python3"
        },
        "language_info": {
            "codemirror_mode": {
                "name": "ipython",
                "version": 3
            },
            "file_extension": ".py",
            "mimetype": "text/x-python",
            "name": "python",
            "nbconvert_exporter": "python",
            "pygments_lexer": "ipython3",
            "version": "3.10.12"
        },
        "orig_nbformat": 4
    },
    "nbformat": 4,
    "nbformat_minor": 2
}
